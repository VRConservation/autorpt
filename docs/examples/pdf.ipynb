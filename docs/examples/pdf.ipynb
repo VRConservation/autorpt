{
 "cells": [
  {
   "cell_type": "markdown",
   "id": "72ecfd3d",
   "metadata": {},
   "source": [
    "# Convert doc to pdf\n",
    "[![Open In Colab](https://colab.research.google.com/assets/colab-badge.svg)](https://colab.research.google.com/github/VRConservation/autorpt/blob/main/docs/examples/pdf.ipynb)"
   ]
  },
  {
   "cell_type": "code",
   "execution_count": null,
   "id": "d20c5631",
   "metadata": {
    "vscode": {
     "languageId": "plaintext"
    }
   },
   "outputs": [],
   "source": [
    "# Uncomment the following line to install autorpt\n",
    "# pip install autorpt"
   ]
  },
  {
   "cell_type": "markdown",
   "id": "faae659e",
   "metadata": {},
   "source": [
    "1. In a virtual environment run `autorpt` to generate a docx file\n",
    "2. "
   ]
  }
 ],
 "metadata": {
  "language_info": {
   "name": "python"
  }
 },
 "nbformat": 4,
 "nbformat_minor": 5
}
