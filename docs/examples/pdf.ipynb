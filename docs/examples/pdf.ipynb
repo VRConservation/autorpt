{
 "cells": [
  {
   "cell_type": "markdown",
   "id": "72ecfd3d",
   "metadata": {},
   "source": [
    "# Convert doc to pdf\n",
    "[![Open In Colab](https://colab.research.google.com/assets/colab-badge.svg)](https://colab.research.google.com/github/VRConservation/autorpt/blob/main/docs/examples/pdf.ipynb)"
   ]
  },
  {
   "cell_type": "code",
   "execution_count": null,
   "id": "d20c5631",
   "metadata": {
    "vscode": {
     "languageId": "plaintext"
    }
   },
   "outputs": [],
   "source": [
    "# Install required packages\n",
    "!pip install autorpt\n",
    "!pip install python-docx2pdf"
   ]
  },
  {
   "cell_type": "markdown",
   "id": "faae659e",
   "metadata": {},
   "source": [
    "## PDF Conversion Workflow\n",
    "\n",
    "This notebook demonstrates how to:\n",
    "\n",
    "1. Generate a Word document using `autorpt`\n",
    "2. Convert the Word document to PDF\n",
    "3. Display the results\n",
    "\n",
    "### Prerequisites\n",
    "- Budget data in Excel format\n",
    "- Optional: `content.md` file for custom content"
   ]
  }
 ],
 "metadata": {
  "language_info": {
   "name": "python"
  }
 },
 "nbformat": 4,
 "nbformat_minor": 5
}
