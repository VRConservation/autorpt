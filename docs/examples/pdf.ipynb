{
 "cells": [
  {
   "cell_type": "markdown",
   "id": "91c3a54d",
   "metadata": {},
   "source": [
    "# Convert report docx to pdf"
   ]
  },
  {
   "cell_type": "code",
   "execution_count": null,
   "id": "d20c5631",
   "metadata": {
    "vscode": {
     "languageId": "plaintext"
    }
   },
   "outputs": [],
   "source": [
    "# Uncomment the following line to install autorpt\n",
    "# pip install autorpt"
   ]
  },
  {
   "cell_type": "markdown",
   "id": "faae659e",
   "metadata": {},
   "source": [
    "1. In a virtual environment run `autorpt` to generate a docx file\n",
    "2. "
   ]
  }
 ],
 "metadata": {
  "language_info": {
   "name": "python"
  }
 },
 "nbformat": 4,
 "nbformat_minor": 5
}
